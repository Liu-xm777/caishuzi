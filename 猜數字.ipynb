{
 "cells": [
  {
   "cell_type": "code",
   "execution_count": null,
   "id": "2cf716ee",
   "metadata": {},
   "outputs": [],
   "source": [
    "import random\n",
    "target_number = random.randint(1,100)\n",
    "while True:\n",
    "    b= input('請猜一個1到100之間的數字')\n",
    "    try:\n",
    "        i = int(b)\n",
    "    except ValueError :\n",
    "        print('不對唷！要輸入半形整數數字才可以喔！')\n",
    "        continue\n",
    "    if i > target_number:\n",
    "        print('太大了！')\n",
    "        i=int(input('請猜一個1到100之間的數字'))\n",
    "    elif i < target_number:\n",
    "        print('太小了！')\n",
    "        i =int(input('請猜一個1到100之間的數字'))\n",
    "    else:\n",
    "        print('bingo')\n",
    "break"
   ]
  },
  {
   "cell_type": "code",
   "execution_count": null,
   "id": "0cfbafc4",
   "metadata": {},
   "outputs": [],
   "source": []
  }
 ],
 "metadata": {
  "kernelspec": {
   "display_name": "Python 3 (ipykernel)",
   "language": "python",
   "name": "python3"
  },
  "language_info": {
   "codemirror_mode": {
    "name": "ipython",
    "version": 3
   },
   "file_extension": ".py",
   "mimetype": "text/x-python",
   "name": "python",
   "nbconvert_exporter": "python",
   "pygments_lexer": "ipython3",
   "version": "3.11.4"
  }
 },
 "nbformat": 4,
 "nbformat_minor": 5
}
